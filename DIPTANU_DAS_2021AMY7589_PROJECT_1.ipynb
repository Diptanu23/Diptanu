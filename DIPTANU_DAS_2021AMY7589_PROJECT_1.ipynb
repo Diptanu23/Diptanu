{
  "metadata": {
    "language_info": {
      "codemirror_mode": {
        "name": "python",
        "version": 3
      },
      "file_extension": ".py",
      "mimetype": "text/x-python",
      "name": "python",
      "nbconvert_exporter": "python",
      "pygments_lexer": "ipython3",
      "version": "3.8"
    },
    "kernelspec": {
      "name": "python",
      "display_name": "Python (Pyodide)",
      "language": "python"
    }
  },
  "nbformat_minor": 4,
  "nbformat": 4,
  "cells": [
    {
      "cell_type": "code",
      "source": "import numpy as np\nimport matplotlib.pyplot as plt",
      "metadata": {
        "trusted": true
      },
      "execution_count": null,
      "outputs": []
    },
    {
      "cell_type": "code",
      "source": "imgmat = plt.imread(\"/content/dance.jpg\")\nprint('(m,n) :\\n',imgmat.shape)\nplt.imshow(imgmat)",
      "metadata": {
        "trusted": true
      },
      "execution_count": null,
      "outputs": []
    },
    {
      "cell_type": "code",
      "source": "mat=np.random.rand(194,259)\nprint('mat :\\n',mat)\nimgmat1=imgmat+50*(np.random.rand(753,564,3)-0.5)\nprint('new matrix imgmat :\\n',imgmat)\nplt.imshow(imgmat1)",
      "metadata": {
        "trusted": true
      },
      "execution_count": null,
      "outputs": []
    },
    {
      "cell_type": "code",
      "source": "krnl=np.array(([0,1/8,0],[1/8,4/8,1/8],[0,1/8,0]),dtype =np.float64)\nprint(krnl)\nimgmat2 = np.empty((753, 564, 3), dtype=np.float64)\nfor i in range(0,751):\n  for j in range(0,562):\n    imgmat2[i+1,j+1]= imgmat[i,j]*krnl[0,0]+imgmat[i,j+1]*krnl[0,1]+imgmat[i,j+2]*krnl[0,2]+imgmat[i+1,j]*krnl[1,0]+imgmat[i+1,j+1]*krnl[1,1]+imgmat[i+1,j+2]*krnl[1,2]+imgmat[i+2,j]*krnl[2,0]+imgmat[i+2,j+1]*krnl[2,1]+imgmat[i+2,j+2]*krnl[2,2]",
      "metadata": {},
      "execution_count": null,
      "outputs": []
    },
    {
      "cell_type": "code",
      "source": "krnl=np.array(([0,1/8,0],[1/8,4/8,1/8],[0,1/8,0]),dtype =np.float64)\nprint(krnl)\nimgmat3 = np.empty((753, 564, 3), dtype=np.float64)\nfor i in range(0,751):\n  for j in range(0,562):\n    imgmat3[i+1,j+1]= imgmat2[i,j]*krnl[0,0]+imgmat2[i,j+1]*krnl[0,1]+imgmat2[i,j+2]*krnl[0,2]+imgmat2[i+1,j]*krnl[1,0]+imgmat2[i+1,j+1]*krnl[1,1]+imgmat2[i+1,j+2]*krnl[1,2]+imgmat2[i+2,j]*krnl[2,0]+imgmat2[i+2,j+1]*krnl[2,1]+imgmat2[i+2,j+2]*krnl[2,2]",
      "metadata": {},
      "execution_count": null,
      "outputs": []
    },
    {
      "cell_type": "code",
      "source": "k=np.array(([0,1/80,2/80,1/80,0],[1/80,4/80,8/80,4/80,1/80],[2/80,8/80,16/80,8/80,2/80],[1/80,4/80,8/80,4/80,1/80],[0,1/80,2/80,1/80,0]),dtype =np.float64)\nprint(k)\nimgmat4 = np.empty((753, 564, 3), dtype=np.float64)\nfor i in range(0,749):\n  for j in range(0,560):\n    imgmat4[i+1,j+1]= imgmat[i,j]*k[0,0]+imgmat[i,j+1]*k[0,1]+imgmat[i,j+2]*k[0,2]+imgmat[i,j+3]*k[0,3]+imgmat[i,j+4]*k[0,4]+imgmat[i+1,j]*k[1,0]+imgmat[i+1,j+1]*k[1,1]+imgmat[i+1,j+2]*k[1,2]+imgmat[i+1,j+3]*k[1,3]+imgmat[i+1,j+4]*k[1,4]+imgmat[i+2,j]*k[2,0]+imgmat[i+2,j+1]*k[2,1]+imgmat[i+2,j+2]*k[2,2]+imgmat[i+2,j+3]*k[2,3]+imgmat[i+2,j+4]*k[2,4]+imgmat[i+3,j]*k[3,0]+imgmat[i+3,j+1]*k[3,1]+imgmat[i+3,j+2]*k[3,2]+imgmat[i+3,j+3]*k[3,3]+imgmat[i+3,j+4]*k[3,4]+imgmat[i+4,j]*k[4,0]+imgmat[i+4,j+1]*k[4,1]+imgmat[i+4,j+2]*k[4,2]+imgmat[i+4,j+3]*k[4,3]+imgmat[i+4,j+4]*k[4,4]",
      "metadata": {},
      "execution_count": null,
      "outputs": []
    },
    {
      "cell_type": "code",
      "source": "ksbl1=np.array(([-1,0,1],[-2,0,2],[-1,0,1]),dtype =np.float64)\nprint(ksbl1)\nimgmat5 = np.empty((753, 564, 3), dtype=np.float64)\nfor i in range(0,751):\n  for j in range(0,562):\n    imgmat5[i+1,j+1]= imgmat[i,j]*ksbl1[0,0]+imgmat[i,j+1]*ksbl1[0,1]+imgmat[i,j+2]*ksbl1[0,2]+imgmat[i+1,j]*ksbl1[1,0]+imgmat[i+1,j+1]*ksbl1[1,1]+imgmat[i+1,j+2]*ksbl1[1,2]+imgmat[i+2,j]*ksbl1[2,0]+imgmat[i+2,j+1]*ksbl1[2,1]+imgmat[i+2,j+2]*ksbl1[2,2]\n",
      "metadata": {},
      "execution_count": null,
      "outputs": []
    },
    {
      "cell_type": "code",
      "source": "ksbl1=np.array(([-1,-2,-1],[0,0,0],[1,2,1]),dtype =np.float64)\nprint(ksbl1)\nimgmat6= np.empty((753, 564, 3), dtype=np.float64)\nfor i in range(0,751):\n  for j in range(0,562):\n    imgmat6[i+1,j+1]= imgmat[i,j]*ksbl1[0,0]+imgmat[i,j+1]*ksbl1[0,1]+imgmat[i,j+2]*ksbl1[0,2]+imgmat[i+1,j]*ksbl1[1,0]+imgmat[i+1,j+1]*ksbl1[1,1]+imgmat[i+1,j+2]*ksbl1[1,2]+imgmat[i+2,j]*ksbl1[2,0]+imgmat[i+2,j+1]*ksbl1[2,1]+imgmat[i+2,j+2]*ksbl1[2,2]\n",
      "metadata": {},
      "execution_count": null,
      "outputs": []
    },
    {
      "cell_type": "code",
      "source": "klap=np.array(([0,-1,0],[-1,4,-1],[0,-1,0]),dtype =np.float64)\nprint(klap)\nimgmat7 = np.empty((753,564, 3), dtype=np.float64)\nfor i in range(0,751):\n  for j in range(0,562):\n    imgmat7[i+1,j+1]= imgmat[i,j]*klap[0,0]+imgmat[i,j+1]*klap[0,1]+imgmat[i,j+2]*klap[0,2]+imgmat[i+1,j]*klap[1,0]+imgmat[i+1,j+1]*klap[1,1]+imgmat[i+1,j+2]*klap[1,2]+imgmat[i+2,j]*klap[2,0]+imgmat[i+2,j+1]*klap[2,1]+imgmat[i+2,j+2]*klap[2,2]",
      "metadata": {},
      "execution_count": null,
      "outputs": []
    }
  ]
}